{
 "cells": [
  {
   "cell_type": "code",
   "execution_count": 1,
   "id": "1041a9a4-5d0d-47c9-9033-aa6a63a7e109",
   "metadata": {},
   "outputs": [],
   "source": [
    "import pandas, warnings\n",
    "\n",
    "import seaborn as sns\n",
    "\n",
    "import matplotlib.pyplot as plt\n",
    "\n",
    "warnings.filterwarnings(\"ignore\")\n",
    "\n",
    "sns.set_style(\"whitegrid\")"
   ]
  },
  {
   "cell_type": "code",
   "execution_count": 2,
   "id": "ddb17232-2a0a-4401-b599-6c8b289bcbfa",
   "metadata": {},
   "outputs": [],
   "source": [
    "colors = [\"#BC9F8B\", \"#B5CFB7\", \"#C5705D\", \"#ACE1AF\", \"#B3C8CF\"]\n",
    "\n",
    "def barplot(result, **barlimit):\n",
    "  if \"ylabel\" not in barlimit.keys():\n",
    "    barlimit[\"ylabel\"] = \"Total Trip\"\n",
    "  if \"color\" not in barlimit.keys():\n",
    "    barlimit[\"color\"] = colors\n",
    "  bar = result.plot.bar(rot=0, **barlimit)\n",
    "  for container in bar.containers:\n",
    "    bar.bar_label(container, fmt=\"%1.1f\")\n",
    "\n",
    "def pieplot(result, **pieargs):\n",
    "  if \"colors\" not in pieargs.keys():\n",
    "    pieargs[\"colors\"] = colors\n",
    "  pieargs[\"ylabel\"] = \"\"\n",
    "  plot = result.plot.pie(**pieargs);\n",
    "\n",
    "def lineplot(result, **lineargs):\n",
    "  plot = result.plot.line(**lineargs)\n",
    "  plot.set_xticks(result.index);"
   ]
  },
  {
   "cell_type": "code",
   "execution_count": 3,
   "id": "cd827a85-b3ab-4a5a-8fc3-f73ea82b7251",
   "metadata": {},
   "outputs": [
    {
     "data": {
      "text/html": [
       "<div>\n",
       "<style scoped>\n",
       "    .dataframe tbody tr th:only-of-type {\n",
       "        vertical-align: middle;\n",
       "    }\n",
       "\n",
       "    .dataframe tbody tr th {\n",
       "        vertical-align: top;\n",
       "    }\n",
       "\n",
       "    .dataframe thead th {\n",
       "        text-align: right;\n",
       "    }\n",
       "</style>\n",
       "<table border=\"1\" class=\"dataframe\">\n",
       "  <thead>\n",
       "    <tr style=\"text-align: right;\">\n",
       "      <th></th>\n",
       "      <th>order_id</th>\n",
       "      <th>order_status</th>\n",
       "      <th>customer</th>\n",
       "      <th>order_date</th>\n",
       "      <th>order_quantity</th>\n",
       "    </tr>\n",
       "  </thead>\n",
       "  <tbody>\n",
       "    <tr>\n",
       "      <th>0</th>\n",
       "      <td>3</td>\n",
       "      <td>Order Finished</td>\n",
       "      <td>Muhammed Mac Intyre</td>\n",
       "      <td>2010-10-13</td>\n",
       "      <td>6</td>\n",
       "    </tr>\n",
       "    <tr>\n",
       "      <th>1</th>\n",
       "      <td>293</td>\n",
       "      <td>Order Finished</td>\n",
       "      <td>Barry French</td>\n",
       "      <td>2012-10-01</td>\n",
       "      <td>49</td>\n",
       "    </tr>\n",
       "    <tr>\n",
       "      <th>2</th>\n",
       "      <td>483</td>\n",
       "      <td>Order Finished</td>\n",
       "      <td>Clay Rozendal</td>\n",
       "      <td>2011-07-10</td>\n",
       "      <td>30</td>\n",
       "    </tr>\n",
       "    <tr>\n",
       "      <th>3</th>\n",
       "      <td>515</td>\n",
       "      <td>Order Finished</td>\n",
       "      <td>Carlos Soltero</td>\n",
       "      <td>2010-08-28</td>\n",
       "      <td>19</td>\n",
       "    </tr>\n",
       "    <tr>\n",
       "      <th>4</th>\n",
       "      <td>613</td>\n",
       "      <td>Order Finished</td>\n",
       "      <td>Carl Jackson</td>\n",
       "      <td>2011-06-17</td>\n",
       "      <td>12</td>\n",
       "    </tr>\n",
       "  </tbody>\n",
       "</table>\n",
       "</div>"
      ],
      "text/plain": [
       "   order_id    order_status             customer order_date  order_quantity\n",
       "0         3  Order Finished  Muhammed Mac Intyre 2010-10-13               6\n",
       "1       293  Order Finished         Barry French 2012-10-01              49\n",
       "2       483  Order Finished        Clay Rozendal 2011-07-10              30\n",
       "3       515  Order Finished       Carlos Soltero 2010-08-28              19\n",
       "4       613  Order Finished         Carl Jackson 2011-06-17              12"
      ]
     },
     "execution_count": 3,
     "metadata": {},
     "output_type": "execute_result"
    }
   ],
   "source": [
    "url = \"clean_data.csv\"\n",
    "\n",
    "tanggal = [\"order_date\"]\n",
    "\n",
    "origin = pandas.read_table(url, sep=\",\", parse_dates=tanggal)\n",
    "\n",
    "origin.iloc[:5, :5]"
   ]
  },
  {
   "cell_type": "code",
   "execution_count": 4,
   "id": "5f704ba0-33d1-4d2b-931e-dbbe5fa979af",
   "metadata": {},
   "outputs": [
    {
     "data": {
      "text/html": [
       "<div>\n",
       "<style scoped>\n",
       "    .dataframe tbody tr th:only-of-type {\n",
       "        vertical-align: middle;\n",
       "    }\n",
       "\n",
       "    .dataframe tbody tr th {\n",
       "        vertical-align: top;\n",
       "    }\n",
       "\n",
       "    .dataframe thead th {\n",
       "        text-align: right;\n",
       "    }\n",
       "</style>\n",
       "<table border=\"1\" class=\"dataframe\">\n",
       "  <thead>\n",
       "    <tr style=\"text-align: right;\">\n",
       "      <th></th>\n",
       "      <th>sales</th>\n",
       "      <th>discount</th>\n",
       "      <th>discount_value</th>\n",
       "      <th>product_category</th>\n",
       "      <th>product_sub_category</th>\n",
       "    </tr>\n",
       "  </thead>\n",
       "  <tbody>\n",
       "    <tr>\n",
       "      <th>0</th>\n",
       "      <td>523080</td>\n",
       "      <td>0.04</td>\n",
       "      <td>20923</td>\n",
       "      <td>Office Supplies</td>\n",
       "      <td>Storage &amp; Organization</td>\n",
       "    </tr>\n",
       "    <tr>\n",
       "      <th>1</th>\n",
       "      <td>20246040</td>\n",
       "      <td>0.07</td>\n",
       "      <td>1417223</td>\n",
       "      <td>Office Supplies</td>\n",
       "      <td>Appliances</td>\n",
       "    </tr>\n",
       "    <tr>\n",
       "      <th>2</th>\n",
       "      <td>9931519</td>\n",
       "      <td>0.08</td>\n",
       "      <td>794522</td>\n",
       "      <td>Technology</td>\n",
       "      <td>Telephones &amp; Communication</td>\n",
       "    </tr>\n",
       "    <tr>\n",
       "      <th>3</th>\n",
       "      <td>788540</td>\n",
       "      <td>0.08</td>\n",
       "      <td>63083</td>\n",
       "      <td>Office Supplies</td>\n",
       "      <td>Appliances</td>\n",
       "    </tr>\n",
       "    <tr>\n",
       "      <th>4</th>\n",
       "      <td>187080</td>\n",
       "      <td>0.03</td>\n",
       "      <td>5612</td>\n",
       "      <td>Office Supplies</td>\n",
       "      <td>Binders &amp; Binder Accessories</td>\n",
       "    </tr>\n",
       "  </tbody>\n",
       "</table>\n",
       "</div>"
      ],
      "text/plain": [
       "      sales  discount  discount_value product_category  \\\n",
       "0    523080      0.04           20923  Office Supplies   \n",
       "1  20246040      0.07         1417223  Office Supplies   \n",
       "2   9931519      0.08          794522       Technology   \n",
       "3    788540      0.08           63083  Office Supplies   \n",
       "4    187080      0.03            5612  Office Supplies   \n",
       "\n",
       "           product_sub_category  \n",
       "0        Storage & Organization  \n",
       "1                    Appliances  \n",
       "2    Telephones & Communication  \n",
       "3                    Appliances  \n",
       "4  Binders & Binder Accessories  "
      ]
     },
     "execution_count": 4,
     "metadata": {},
     "output_type": "execute_result"
    }
   ],
   "source": [
    "origin.iloc[:5, 5:]"
   ]
  },
  {
   "cell_type": "code",
   "execution_count": 5,
   "id": "d039396c-2a31-45fb-b8d8-3baf516641e0",
   "metadata": {},
   "outputs": [
    {
     "data": {
      "text/plain": [
       "0"
      ]
     },
     "execution_count": 5,
     "metadata": {},
     "output_type": "execute_result"
    }
   ],
   "source": [
    "origin.isnull().sum().sum()"
   ]
  },
  {
   "cell_type": "code",
   "execution_count": 6,
   "id": "9ad5269e-e569-4d16-bb60-a134ffa12137",
   "metadata": {},
   "outputs": [
    {
     "data": {
      "text/plain": [
       "0"
      ]
     },
     "execution_count": 6,
     "metadata": {},
     "output_type": "execute_result"
    }
   ],
   "source": [
    "origin.duplicated().sum()"
   ]
  },
  {
   "cell_type": "code",
   "execution_count": 7,
   "id": "c2610989-c257-4864-965c-ed92d28914b3",
   "metadata": {},
   "outputs": [
    {
     "data": {
      "text/plain": [
       "5496"
      ]
     },
     "execution_count": 7,
     "metadata": {},
     "output_type": "execute_result"
    }
   ],
   "source": [
    "origin[\"order_id\"].nunique()"
   ]
  },
  {
   "cell_type": "code",
   "execution_count": 8,
   "id": "aef8d12b-8bcb-4410-8e05-155ec901d0d6",
   "metadata": {},
   "outputs": [
    {
     "data": {
      "text/plain": [
       "(5499, 10)"
      ]
     },
     "execution_count": 8,
     "metadata": {},
     "output_type": "execute_result"
    }
   ],
   "source": [
    "origin.shape"
   ]
  },
  {
   "cell_type": "code",
   "execution_count": 9,
   "id": "a6e61e7b-6a0b-48ee-9d3f-c2ffbd2d88ad",
   "metadata": {},
   "outputs": [
    {
     "data": {
      "text/plain": [
       "[29795, 31781, 40519]"
      ]
     },
     "execution_count": 9,
     "metadata": {},
     "output_type": "execute_result"
    }
   ],
   "source": [
    "double = origin[origin[\"order_id\"].duplicated()][\"order_id\"].values.tolist()\n",
    "\n",
    "double"
   ]
  },
  {
   "cell_type": "code",
   "execution_count": 10,
   "id": "a0026b30-4b13-4213-88ad-7aa668b8c4c0",
   "metadata": {},
   "outputs": [
    {
     "data": {
      "text/html": [
       "<div>\n",
       "<style scoped>\n",
       "    .dataframe tbody tr th:only-of-type {\n",
       "        vertical-align: middle;\n",
       "    }\n",
       "\n",
       "    .dataframe tbody tr th {\n",
       "        vertical-align: top;\n",
       "    }\n",
       "\n",
       "    .dataframe thead th {\n",
       "        text-align: right;\n",
       "    }\n",
       "</style>\n",
       "<table border=\"1\" class=\"dataframe\">\n",
       "  <thead>\n",
       "    <tr style=\"text-align: right;\">\n",
       "      <th></th>\n",
       "      <th>order_id</th>\n",
       "      <th>order_status</th>\n",
       "      <th>customer</th>\n",
       "      <th>order_date</th>\n",
       "      <th>order_quantity</th>\n",
       "      <th>sales</th>\n",
       "      <th>discount</th>\n",
       "    </tr>\n",
       "  </thead>\n",
       "  <tbody>\n",
       "    <tr>\n",
       "      <th>185</th>\n",
       "      <td>29795</td>\n",
       "      <td>Order Finished</td>\n",
       "      <td>Grant Carroll</td>\n",
       "      <td>2011-11-25</td>\n",
       "      <td>49</td>\n",
       "      <td>38650400</td>\n",
       "      <td>0.05</td>\n",
       "    </tr>\n",
       "    <tr>\n",
       "      <th>186</th>\n",
       "      <td>29795</td>\n",
       "      <td>Order Cancelled</td>\n",
       "      <td>Grant Carroll</td>\n",
       "      <td>2011-11-25</td>\n",
       "      <td>49</td>\n",
       "      <td>38650400</td>\n",
       "      <td>0.05</td>\n",
       "    </tr>\n",
       "    <tr>\n",
       "      <th>200</th>\n",
       "      <td>31781</td>\n",
       "      <td>Order Finished</td>\n",
       "      <td>Sylvia Foulston</td>\n",
       "      <td>2009-01-16</td>\n",
       "      <td>46</td>\n",
       "      <td>498040</td>\n",
       "      <td>0.10</td>\n",
       "    </tr>\n",
       "    <tr>\n",
       "      <th>201</th>\n",
       "      <td>31781</td>\n",
       "      <td>Order Cancelled</td>\n",
       "      <td>Sylvia Foulston</td>\n",
       "      <td>2009-01-16</td>\n",
       "      <td>46</td>\n",
       "      <td>498040</td>\n",
       "      <td>0.10</td>\n",
       "    </tr>\n",
       "    <tr>\n",
       "      <th>244</th>\n",
       "      <td>40519</td>\n",
       "      <td>Order Cancelled</td>\n",
       "      <td>N UL L</td>\n",
       "      <td>2009-03-13</td>\n",
       "      <td>3</td>\n",
       "      <td>35040</td>\n",
       "      <td>0.05</td>\n",
       "    </tr>\n",
       "    <tr>\n",
       "      <th>5453</th>\n",
       "      <td>40519</td>\n",
       "      <td>Order Finished</td>\n",
       "      <td>Sandra Glassco</td>\n",
       "      <td>2010-12-21</td>\n",
       "      <td>38</td>\n",
       "      <td>165860</td>\n",
       "      <td>0.08</td>\n",
       "    </tr>\n",
       "  </tbody>\n",
       "</table>\n",
       "</div>"
      ],
      "text/plain": [
       "      order_id     order_status         customer order_date  order_quantity  \\\n",
       "185      29795   Order Finished    Grant Carroll 2011-11-25              49   \n",
       "186      29795  Order Cancelled    Grant Carroll 2011-11-25              49   \n",
       "200      31781   Order Finished  Sylvia Foulston 2009-01-16              46   \n",
       "201      31781  Order Cancelled  Sylvia Foulston 2009-01-16              46   \n",
       "244      40519  Order Cancelled           N UL L 2009-03-13               3   \n",
       "5453     40519   Order Finished   Sandra Glassco 2010-12-21              38   \n",
       "\n",
       "         sales  discount  \n",
       "185   38650400      0.05  \n",
       "186   38650400      0.05  \n",
       "200     498040      0.10  \n",
       "201     498040      0.10  \n",
       "244      35040      0.05  \n",
       "5453    165860      0.08  "
      ]
     },
     "execution_count": 10,
     "metadata": {},
     "output_type": "execute_result"
    }
   ],
   "source": [
    "origin[origin[\"order_id\"].isin(double)].iloc[:, :7]"
   ]
  },
  {
   "cell_type": "code",
   "execution_count": 11,
   "id": "b7f5dd9b-f3b0-4efe-adac-dc255ce11f01",
   "metadata": {},
   "outputs": [
    {
     "data": {
      "text/plain": [
       "5496"
      ]
     },
     "execution_count": 11,
     "metadata": {},
     "output_type": "execute_result"
    }
   ],
   "source": [
    "origin = origin[origin[\"order_status\"] != \"Order Cancelled\"]\n",
    "\n",
    "origin[\"order_id\"].nunique()"
   ]
  },
  {
   "cell_type": "code",
   "execution_count": 12,
   "id": "d62db1a5-34b1-4a8f-981d-9849eca10484",
   "metadata": {},
   "outputs": [
    {
     "data": {
      "image/png": "[encoded data removed]",
      "text/plain": [
       "<Figure size 640x480 with 1 Axes>"
      ]
     },
     "metadata": {},
     "output_type": "display_data"
    }
   ],
   "source": [
    "order_status = origin[\"order_status\"].value_counts()\n",
    "\n",
    "title = \"Total Order Status\"\n",
    "\n",
    "barplot(order_status, title=title, xlabel=\"Order Status\", ylabel=\"Total Order\")"
   ]
  },
  {
   "cell_type": "code",
   "execution_count": 13,
   "id": "1e826a0c-d676-4785-8466-8acddab7457a",
   "metadata": {},
   "outputs": [
    {
     "data": {
      "text/plain": [
       "17267992632"
      ]
     },
     "execution_count": 13,
     "metadata": {},
     "output_type": "execute_result"
    }
   ],
   "source": [
    "table = origin[origin[\"order_status\"] == \"Order Finished\"]\n",
    "\n",
    "total_sales = table[\"sales\"].sum()\n",
    "\n",
    "total_sales"
   ]
  },
  {
   "cell_type": "code",
   "execution_count": 14,
   "id": "5fa86714-e554-499d-b36d-bc3ba6455b90",
   "metadata": {},
   "outputs": [
    {
     "data": {
      "text/plain": [
       "10.93414"
      ]
     },
     "execution_count": 14,
     "metadata": {},
     "output_type": "execute_result"
    }
   ],
   "source": [
    "total_sales_all = origin[\"sales\"].sum()\n",
    "\n",
    "sales_diff = 1 - (total_sales / total_sales_all)\n",
    "\n",
    "sales_diff = round(sales_diff * 100, 5)\n",
    "\n",
    "sales_diff"
   ]
  },
  {
   "cell_type": "code",
   "execution_count": 15,
   "id": "d589da0f-508a-4578-833d-75f243687034",
   "metadata": {},
   "outputs": [
    {
     "data": {
      "image/png": "[encoded data removed]",
      "text/plain": [
       "<Figure size 640x480 with 1 Axes>"
      ]
     },
     "metadata": {},
     "output_type": "display_data"
    }
   ],
   "source": [
    "notsales = origin[origin[\"order_status\"] != \"Order Finished\"]\n",
    "\n",
    "tahun = notsales.order_date.dt.year\n",
    "\n",
    "notsales = notsales.groupby(tahun).order_status.count()\n",
    "\n",
    "title = \"Yearly Sales Return\"\n",
    "\n",
    "lineplot(notsales, marker=\"x\", xlabel=\"Tahun\", ylabel=\"Total Sales Return\", title=title)"
   ]
  },
  {
   "cell_type": "code",
   "execution_count": 16,
   "id": "8f4c9788-bd63-4f58-989c-83bfc2099a86",
   "metadata": {},
   "outputs": [
    {
     "data": {
      "image/png": "[encoded data removed]",
      "text/plain": [
       "<Figure size 640x480 with 1 Axes>"
      ]
     },
     "metadata": {},
     "output_type": "display_data"
    }
   ],
   "source": [
    "tahun = table.order_date.dt.year\n",
    "\n",
    "transaction = table.groupby(tahun).order_status.count()\n",
    "\n",
    "title = \"Yearly Sales Finished\"\n",
    "\n",
    "lineplot(transaction, marker=\"x\", xlabel=\"Tahun\", ylabel=\"Total Sales Finished\", title=title)"
   ]
  }
 ],
 "metadata": {
  "kernelspec": {
   "display_name": "Python 3 (ipykernel)",
   "language": "python",
   "name": "python3"
  },
  "language_info": {
   "codemirror_mode": {
    "name": "ipython",
    "version": 3
   },
   "file_extension": ".py",
   "mimetype": "text/x-python",
   "name": "python",
   "nbconvert_exporter": "python",
   "pygments_lexer": "ipython3",
   "version": "3.9.13"
  }
 },
 "nbformat": 4,
 "nbformat_minor": 5
}
